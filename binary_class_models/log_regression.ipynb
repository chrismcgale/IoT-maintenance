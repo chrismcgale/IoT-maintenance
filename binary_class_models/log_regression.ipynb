{
 "cells": [
  {
   "cell_type": "code",
   "execution_count": 13,
   "metadata": {},
   "outputs": [],
   "source": [
    "\n",
    "from sklearn.linear_model import LogisticRegression\n",
    "import numpy as np\n",
    "import glob"
   ]
  },
  {
   "cell_type": "code",
   "execution_count": 14,
   "metadata": {},
   "outputs": [],
   "source": [
    "# Create the Random Forest Regressor model\n",
    "model = LogisticRegression( max_iter=3000)\n",
    "need_maintenance = 30"
   ]
  },
  {
   "cell_type": "code",
   "execution_count": 15,
   "metadata": {},
   "outputs": [],
   "source": [
    "from sklearn.metrics import accuracy_score, classification_report\n",
    "\n",
    "# Aggregate all my data\n",
    "x_train, y_train = [], []\n",
    "for train_path in glob.glob('..\\data\\\\train_FD00[0-9].txt'):\n",
    "    # Get aggregate path for the same train file\n",
    "    agg_path = train_path.replace('.txt', '_agg.txt')\n",
    "    \n",
    "    # Get both trainiing and aggregate data\n",
    "    train_data = np.genfromtxt(train_path, delimiter=' ')\n",
    "    agg_data = np.genfromtxt(agg_path, delimiter=' ')\n",
    "\n",
    "    # Merge the 2\n",
    "    train_data = np.hstack((train_data, agg_data))\n",
    "    \n",
    "    unique = []\n",
    "    curr_id = -1\n",
    "    last = []\n",
    "    \n",
    "    # Find the last item for each id\n",
    "    for d in train_data:\n",
    "        if d[0] != curr_id:\n",
    "            if curr_id != -1:\n",
    "                unique.append(list(last))\n",
    "            curr_id = d[0]\n",
    "        last = d\n",
    "    unique.append(list(last))\n",
    "    \n",
    "        \n",
    "    # Set labels as last cycle - curr cycle (Find a better way)\n",
    "    labels = np.array([(unique[(int(item[0]) - 1) % len(unique)][1] - item[1]) < need_maintenance for item in train_data])\n",
    "    \n",
    "    y_train.extend(labels)\n",
    "    x_train.extend(train_data[:, 1:])\n",
    "    "
   ]
  },
  {
   "cell_type": "code",
   "execution_count": 16,
   "metadata": {},
   "outputs": [
    {
     "name": "stderr",
     "output_type": "stream",
     "text": [
      "c:\\Users\\chris\\AppData\\Local\\Programs\\Python\\Python310\\lib\\site-packages\\sklearn\\linear_model\\_logistic.py:460: ConvergenceWarning: lbfgs failed to converge (status=1):\n",
      "STOP: TOTAL NO. of ITERATIONS REACHED LIMIT.\n",
      "\n",
      "Increase the number of iterations (max_iter) or scale the data as shown in:\n",
      "    https://scikit-learn.org/stable/modules/preprocessing.html\n",
      "Please also refer to the documentation for alternative solver options:\n",
      "    https://scikit-learn.org/stable/modules/linear_model.html#logistic-regression\n",
      "  n_iter_i = _check_optimize_result(\n"
     ]
    }
   ],
   "source": [
    "# Fit model\n",
    "model.fit(x_train, y_train)\n",
    "\n",
    "# Make predictions on the training data\n",
    "y_pred = model.predict(x_train)"
   ]
  },
  {
   "cell_type": "code",
   "execution_count": 17,
   "metadata": {},
   "outputs": [
    {
     "name": "stdout",
     "output_type": "stream",
     "text": [
      "Accuracy: 0.94\n",
      "Classification Report:\n",
      "              precision    recall  f1-score   support\n",
      "\n",
      "       False       0.96      0.97      0.96    139089\n",
      "        True       0.79      0.71      0.75     21270\n",
      "\n",
      "    accuracy                           0.94    160359\n",
      "   macro avg       0.87      0.84      0.85    160359\n",
      "weighted avg       0.93      0.94      0.93    160359\n",
      "\n"
     ]
    }
   ],
   "source": [
    "# Evaluate the model on training data\n",
    "accuracy = accuracy_score(y_train, y_pred)\n",
    "report = classification_report(y_train, y_pred)\n",
    "\n",
    "print(f\"Accuracy: {accuracy:.2f}\")\n",
    "print(\"Classification Report:\")\n",
    "print(report)"
   ]
  },
  {
   "cell_type": "code",
   "execution_count": 18,
   "metadata": {},
   "outputs": [],
   "source": [
    "# Aggregate all my data\n",
    "x_test, y_test = [], []\n",
    "for test_path in glob.glob('..\\data\\\\test_FD00[0-9].txt'):\n",
    "    agg_path = test_path.replace('.txt', '_agg.txt')\n",
    "    rul_path = test_path.replace('test', 'RUL')\n",
    "    \n",
    "    test_data = np.genfromtxt(test_path, delimiter=' ')\n",
    "    agg_data = np.genfromtxt(agg_path, delimiter=' ')\n",
    "    \n",
    "    labels = np.array([x < need_maintenance for x in np.genfromtxt(rul_path)])\n",
    "    y_test.extend(labels)\n",
    "\n",
    "    test_data = np.hstack((test_data, agg_data))\n",
    "    \n",
    "    # Get item with last cycle for each id\n",
    "    unique = []\n",
    "    curr_id = -1\n",
    "    last = []\n",
    "    \n",
    "    for d in test_data:\n",
    "        if d[0] != curr_id:\n",
    "            if curr_id != -1:\n",
    "                unique.append(list(last))\n",
    "            curr_id = d[0]\n",
    "        last = d        \n",
    "    unique.append(list(last))\n",
    "    \n",
    "    unique = [row[1:] for row in unique]\n",
    "    \n",
    "    x_test.extend(unique)\n",
    "    "
   ]
  },
  {
   "cell_type": "code",
   "execution_count": 19,
   "metadata": {},
   "outputs": [],
   "source": [
    "# Predict on my data\n",
    "y_pred = model.predict(x_test)"
   ]
  },
  {
   "cell_type": "code",
   "execution_count": 20,
   "metadata": {},
   "outputs": [
    {
     "name": "stdout",
     "output_type": "stream",
     "text": [
      "Accuracy: 0.79\n",
      "Classification Report:\n",
      "              precision    recall  f1-score   support\n",
      "\n",
      "       False       0.79      1.00      0.88       550\n",
      "        True       1.00      0.04      0.09       157\n",
      "\n",
      "    accuracy                           0.79       707\n",
      "   macro avg       0.89      0.52      0.48       707\n",
      "weighted avg       0.83      0.79      0.70       707\n",
      "\n"
     ]
    }
   ],
   "source": [
    "# Evaluate the model on test data\n",
    "accuracy = accuracy_score(y_test, y_pred)\n",
    "report = classification_report(y_test, y_pred)\n",
    "\n",
    "print(f\"Accuracy: {accuracy:.2f}\")\n",
    "print(\"Classification Report:\")\n",
    "print(report)"
   ]
  }
 ],
 "metadata": {
  "kernelspec": {
   "display_name": "Python 3",
   "language": "python",
   "name": "python3"
  },
  "language_info": {
   "codemirror_mode": {
    "name": "ipython",
    "version": 3
   },
   "file_extension": ".py",
   "mimetype": "text/x-python",
   "name": "python",
   "nbconvert_exporter": "python",
   "pygments_lexer": "ipython3",
   "version": "3.10.8"
  },
  "orig_nbformat": 4
 },
 "nbformat": 4,
 "nbformat_minor": 2
}
