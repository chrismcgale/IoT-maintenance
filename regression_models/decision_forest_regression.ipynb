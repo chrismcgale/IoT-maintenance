{
 "cells": [
  {
   "cell_type": "code",
   "execution_count": 4,
   "metadata": {},
   "outputs": [],
   "source": [
    "\n",
    "from sklearn.ensemble import RandomForestRegressor\n",
    "import numpy as np\n",
    "import glob"
   ]
  },
  {
   "cell_type": "code",
   "execution_count": 5,
   "metadata": {},
   "outputs": [],
   "source": [
    "# Create the Random Forest Regressor model\n",
    "model = RandomForestRegressor(n_estimators=1000, max_depth=7, min_samples_split=40, min_samples_leaf=10)"
   ]
  },
  {
   "cell_type": "code",
   "execution_count": 6,
   "metadata": {},
   "outputs": [],
   "source": [
    "from sklearn.metrics import mean_absolute_error, r2_score\n",
    "\n",
    "# Aggregate all my data\n",
    "x_train, y_train = [], []\n",
    "for train_path in glob.glob('..\\data\\\\train_FD00[0-9].txt'):\n",
    "    # Get aggregate path for the same train file\n",
    "    agg_path = train_path.replace('.txt', '_agg.txt')\n",
    "    \n",
    "    # Get both trainiing and aggregate data\n",
    "    train_data = np.genfromtxt(train_path, delimiter=' ')\n",
    "    agg_data = np.genfromtxt(agg_path, delimiter=' ')\n",
    "\n",
    "    # Merge the 2\n",
    "    train_data = np.hstack((train_data, agg_data))\n",
    "    \n",
    "    unique = []\n",
    "    curr_id = -1\n",
    "    last = []\n",
    "    \n",
    "    # Find the last item for each id\n",
    "    for d in train_data:\n",
    "        if d[0] != curr_id:\n",
    "            if curr_id != -1:\n",
    "                unique.append(list(last))\n",
    "            curr_id = d[0]\n",
    "        last = d\n",
    "    unique.append(list(last))\n",
    "    \n",
    "        \n",
    "    # Set labels as last cycle - curr cycle (Find a better way)\n",
    "    labels = np.array([unique[(int(item[0]) - 1) % len(unique)][1] - item[1] for item in train_data])\n",
    "    \n",
    "    y_train.extend(labels)\n",
    "    x_train.extend(train_data[:, 1:])\n",
    "    "
   ]
  },
  {
   "cell_type": "code",
   "execution_count": 7,
   "metadata": {},
   "outputs": [],
   "source": [
    "# Fit model\n",
    "model.fit(x_train, y_train)\n",
    "\n",
    "# Make predictions on the training data\n",
    "y_pred = model.predict(x_train)"
   ]
  },
  {
   "cell_type": "code",
   "execution_count": null,
   "metadata": {},
   "outputs": [],
   "source": [
    "# Calculate R-squared for training data\n",
    "r2 = r2_score(y_train, y_pred)\n",
    "\n",
    "# Calculate Mean Absolute Error\n",
    "mae = mean_absolute_error(y_train, y_pred)\n",
    "\n",
    "print(f\"R-squared: {r2:.2f}\")    \n",
    "print(\"R-squared:\", r2)"
   ]
  },
  {
   "cell_type": "code",
   "execution_count": null,
   "metadata": {},
   "outputs": [
    {
     "name": "stdout",
     "output_type": "stream",
     "text": [
      "Mean Squared Error: 1927.755921216407\n",
      "Mean Absolute Error: 31.15899575671853\n",
      "R-squared: 0.26093958997874556\n"
     ]
    }
   ],
   "source": [
    "# Aggregate all my data\n",
    "x_test, y_test = [], []\n",
    "for test_path in glob.glob('..\\data\\\\test_FD00[0-9].txt'):\n",
    "    agg_path = test_path.replace('.txt', '_agg.txt')\n",
    "    rul_path = test_path.replace('test', 'RUL')\n",
    "    \n",
    "    test_data = np.genfromtxt(test_path, delimiter=' ')\n",
    "    agg_data = np.genfromtxt(agg_path, delimiter=' ')\n",
    "    y_test.extend(np.genfromtxt(rul_path))\n",
    "\n",
    "    test_data = np.hstack((test_data, agg_data))\n",
    "    \n",
    "    # Get item with last cycle for each id\n",
    "    unique = []\n",
    "    curr_id = -1\n",
    "    last = []\n",
    "    \n",
    "    for d in test_data:\n",
    "        if d[0] != curr_id:\n",
    "            if curr_id != -1:\n",
    "                unique.append(list(last))\n",
    "            curr_id = d[0]\n",
    "        last = d        \n",
    "    unique.append(list(last))\n",
    "    \n",
    "    unique = [row[1:] for row in unique]\n",
    "    \n",
    "    x_test.extend(unique)\n",
    "    "
   ]
  },
  {
   "cell_type": "code",
   "execution_count": null,
   "metadata": {},
   "outputs": [],
   "source": [
    "# Predict on my data\n",
    "y_pred = model.predict(x_test)"
   ]
  },
  {
   "cell_type": "code",
   "execution_count": null,
   "metadata": {},
   "outputs": [],
   "source": [
    "# Evaluate predictions\n",
    "mae = mean_absolute_error(y_test, y_pred)\n",
    "r2 = r2_score(y_test, y_pred)\n",
    "\n",
    "print(\"Mean Absolute Error:\", mae)\n",
    "print(\"R-squared:\", r2)"
   ]
  }
 ],
 "metadata": {
  "kernelspec": {
   "display_name": "Python 3",
   "language": "python",
   "name": "python3"
  },
  "language_info": {
   "codemirror_mode": {
    "name": "ipython",
    "version": 3
   },
   "file_extension": ".py",
   "mimetype": "text/x-python",
   "name": "python",
   "nbconvert_exporter": "python",
   "pygments_lexer": "ipython3",
   "version": "3.10.8"
  },
  "orig_nbformat": 4
 },
 "nbformat": 4,
 "nbformat_minor": 2
}
