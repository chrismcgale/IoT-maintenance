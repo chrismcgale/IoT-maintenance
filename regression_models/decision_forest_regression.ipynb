{
 "cells": [
  {
   "cell_type": "code",
   "execution_count": 51,
   "metadata": {},
   "outputs": [],
   "source": [
    "from sklearn.ensemble import RandomForestRegressor\n",
    "import numpy as np\n",
    "import pandas as pd\n",
    "import glob"
   ]
  },
  {
   "cell_type": "code",
   "execution_count": 52,
   "metadata": {},
   "outputs": [],
   "source": [
    "# Create the Random Forest Regressor model\n",
    "model = RandomForestRegressor(n_estimators=100, random_state=42)"
   ]
  },
  {
   "cell_type": "code",
   "execution_count": 53,
   "metadata": {},
   "outputs": [],
   "source": [
    "\n",
    "for train_path in glob.glob('..\\data\\\\train_FD00[0-9].txt'):\n",
    "    agg_path = train_path.replace('.txt', '_agg.txt')\n",
    "    rul_path = train_path.replace('train', 'RUL')\n",
    "    \n",
    "    train_data = np.genfromtxt(train_path, delimiter=' ')\n",
    "    agg_data = np.genfromtxt(agg_path, delimiter=' ')\n",
    "    labels = np.genfromtxt(rul_path)\n",
    "\n",
    "    X_train = np.hstack((train_data, agg_data))\n",
    "    \n",
    "    Y_train = np.array([labels[(int(item[0]) - 1) % len(labels)] for item in X_train])\n",
    "    \n",
    "    model.fit(X_train[:, 2:-1], Y_train)"
   ]
  },
  {
   "cell_type": "code",
   "execution_count": null,
   "metadata": {},
   "outputs": [
    {
     "name": "stdout",
     "output_type": "stream",
     "text": [
      "[[ 2.3e-03  3.0e-04  1.0e+02 ...  0.0e+00  0.0e+00  5.5e-02]\n",
      " [-2.7e-03 -3.0e-04  1.0e+02 ...  0.0e+00  0.0e+00  7.9e-02]\n",
      " [ 3.0e-04  1.0e-04  1.0e+02 ...  0.0e+00  0.0e+00  7.1e-02]\n",
      " ...\n",
      " [-6.0e-04 -3.0e-04  1.0e+02 ...  0.0e+00  0.0e+00  4.3e-02]\n",
      " [-3.8e-03  1.0e-04  1.0e+02 ...  0.0e+00  0.0e+00  4.3e-02]\n",
      " [ 1.3e-03  3.0e-04  1.0e+02 ...  0.0e+00  0.0e+00  4.3e-02]]\n",
      "[20. 20. 20. ... 20. 20. 20.]\n",
      "Mean Squared Error: 36.0\n",
      "Mean Absolute Error: 6.0\n",
      "R-squared: 0.0\n",
      "[[9.99870e+00 2.50200e-01 1.00000e+02 ... 1.70126e+02 7.38300e+00\n",
      "  4.62400e+00]\n",
      " [2.00026e+01 7.00000e-01 1.00000e+02 ... 1.47351e+02 7.38300e+00\n",
      "  2.00500e+00]\n",
      " [3.50045e+01 8.40000e-01 1.00000e+02 ... 1.45500e+02 7.38300e+00\n",
      "  1.84300e+00]\n",
      " ...\n",
      " [4.20061e+01 8.40000e-01 1.00000e+02 ... 6.94310e+01 0.00000e+00\n",
      "  1.10900e+01]\n",
      " [2.40000e-03 3.00000e-04 1.00000e+02 ... 6.94310e+01 0.00000e+00\n",
      "  1.10900e+01]\n",
      " [4.20033e+01 8.40000e-01 1.00000e+02 ... 6.94310e+01 0.00000e+00\n",
      "  1.10900e+01]]\n",
      "[11. 54. 63. ... 27. 51. 27.]\n",
      "Mean Squared Error: 2820.693784360566\n",
      "Mean Absolute Error: 40.37426907122474\n",
      "R-squared: -2.1878377272415466\n",
      "[[-1.7e-03 -4.0e-04  1.0e+02 ...  0.0e+00  0.0e+00  5.4e-02]\n",
      " [ 6.0e-04 -2.0e-04  1.0e+02 ...  0.0e+00  0.0e+00  5.6e-02]\n",
      " [ 1.4e-03 -3.0e-04  1.0e+02 ...  0.0e+00  0.0e+00  6.1e-02]\n",
      " ...\n",
      " [-5.3e-03  2.0e-04  1.0e+02 ...  0.0e+00  0.0e+00  1.2e-02]\n",
      " [-6.0e-04  1.0e-04  1.0e+02 ...  0.0e+00  0.0e+00  1.2e-02]\n",
      " [ 2.3e-03  4.0e-04  1.0e+02 ...  0.0e+00  0.0e+00  1.2e-02]]\n",
      "[28. 28. 28. ... 28. 28. 28.]\n",
      "Mean Squared Error: 4.0\n",
      "Mean Absolute Error: 2.0\n",
      "R-squared: 0.0\n",
      "[[ 20.0072   0.7    100.     ... 147.351    7.383    1.966 ]\n",
      " [ 24.9984   0.62    60.     ... 137.709    6.028    5.143 ]\n",
      " [ 42.       0.842  100.     ... 138.334    6.028    4.647 ]\n",
      " ...\n",
      " [ 34.9988   0.8413 100.     ...  51.433    0.       5.634 ]\n",
      " [ 20.0027   0.7    100.     ...  51.433    0.       5.634 ]\n",
      " [ 35.0075   0.8402 100.     ...  51.433    0.       5.634 ]]\n",
      "[ 82. 142.  30. ... 126.  82.  36.]\n",
      "Mean Squared Error: 0.007368471878487891\n",
      "Mean Absolute Error: 0.0014271849371572762\n",
      "R-squared: 0.9999972173579794\n"
     ]
    }
   ],
   "source": [
    "from sklearn.metrics import mean_squared_error, mean_absolute_error, r2_score\n",
    "for test_path in glob.glob('..\\data\\\\test_FD00[0-9].txt'):\n",
    "    agg_path = test_path.replace('.txt', '_agg.txt')\n",
    "    rul_path = test_path.replace('test', 'RUL')\n",
    "    \n",
    "    test_data = np.genfromtxt(test_path, delimiter=' ')\n",
    "    agg_data = np.genfromtxt(agg_path, delimiter=' ')\n",
    "    labels = np.genfromtxt(rul_path)\n",
    "\n",
    "    X_test = np.hstack((test_data, agg_data))\n",
    "    \n",
    "    print(X_test)\n",
    "    \n",
    "    \n",
    "    y_test = np.array([labels[(int(item[0]) - 1) % len(labels)] for item in X_test])\n",
    "    \n",
    "    print(y_test)\n",
    "\n",
    "    \n",
    "    y_pred = model.predict(X_test[:, 2:-1])\n",
    "\n",
    "    mse = mean_squared_error(y_test, y_pred)\n",
    "    mae = mean_absolute_error(y_test, y_pred)\n",
    "    r2 = r2_score(y_test, y_pred)\n",
    "\n",
    "    print(\"Mean Squared Error:\", mse)\n",
    "    print(\"Mean Absolute Error:\", mae)\n",
    "    print(\"R-squared:\", r2)\n",
    "    \n",
    "    "
   ]
  }
 ],
 "metadata": {
  "kernelspec": {
   "display_name": "Python 3",
   "language": "python",
   "name": "python3"
  },
  "language_info": {
   "codemirror_mode": {
    "name": "ipython",
    "version": 3
   },
   "file_extension": ".py",
   "mimetype": "text/x-python",
   "name": "python",
   "nbconvert_exporter": "python",
   "pygments_lexer": "ipython3",
   "version": "3.10.8"
  },
  "orig_nbformat": 4
 },
 "nbformat": 4,
 "nbformat_minor": 2
}
